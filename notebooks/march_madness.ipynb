{
 "cells": [
  {
   "cell_type": "markdown",
   "metadata": {},
   "source": [
    "# Import reqs"
   ]
  },
  {
   "cell_type": "code",
   "execution_count": 162,
   "metadata": {
    "collapsed": true
   },
   "outputs": [],
   "source": [
    "import pandas as pd\n",
    "import numpy as np\n",
    "import matplotlib.pyplot as plt\n",
    "% matplotlib inline"
   ]
  },
  {
   "cell_type": "markdown",
   "metadata": {},
   "source": [
    "# Import data"
   ]
  },
  {
   "cell_type": "code",
   "execution_count": 18,
   "metadata": {
    "collapsed": false
   },
   "outputs": [
    {
     "name": "stdout",
     "output_type": "stream",
     "text": [
      "(364, 2)\n"
     ]
    },
    {
     "data": {
      "text/html": [
       "<div>\n",
       "<table border=\"1\" class=\"dataframe\">\n",
       "  <thead>\n",
       "    <tr style=\"text-align: right;\">\n",
       "      <th></th>\n",
       "      <th>Team_Id</th>\n",
       "      <th>Team_Name</th>\n",
       "    </tr>\n",
       "  </thead>\n",
       "  <tbody>\n",
       "    <tr>\n",
       "      <th>0</th>\n",
       "      <td>1101</td>\n",
       "      <td>Abilene Chr</td>\n",
       "    </tr>\n",
       "    <tr>\n",
       "      <th>1</th>\n",
       "      <td>1102</td>\n",
       "      <td>Air Force</td>\n",
       "    </tr>\n",
       "    <tr>\n",
       "      <th>2</th>\n",
       "      <td>1103</td>\n",
       "      <td>Akron</td>\n",
       "    </tr>\n",
       "    <tr>\n",
       "      <th>3</th>\n",
       "      <td>1104</td>\n",
       "      <td>Alabama</td>\n",
       "    </tr>\n",
       "    <tr>\n",
       "      <th>4</th>\n",
       "      <td>1105</td>\n",
       "      <td>Alabama A&amp;M</td>\n",
       "    </tr>\n",
       "  </tbody>\n",
       "</table>\n",
       "</div>"
      ],
      "text/plain": [
       "   Team_Id    Team_Name\n",
       "0     1101  Abilene Chr\n",
       "1     1102    Air Force\n",
       "2     1103        Akron\n",
       "3     1104      Alabama\n",
       "4     1105  Alabama A&M"
      ]
     },
     "execution_count": 18,
     "metadata": {},
     "output_type": "execute_result"
    }
   ],
   "source": [
    "teams_df = pd.read_csv('../data/Teams.csv')\n",
    "print teams_df.shape\n",
    "teams_df.head()"
   ]
  },
  {
   "cell_type": "code",
   "execution_count": 7,
   "metadata": {
    "collapsed": false
   },
   "outputs": [
    {
     "name": "stdout",
     "output_type": "stream",
     "text": [
      "(145289, 8)\n"
     ]
    },
    {
     "data": {
      "text/html": [
       "<div>\n",
       "<table border=\"1\" class=\"dataframe\">\n",
       "  <thead>\n",
       "    <tr style=\"text-align: right;\">\n",
       "      <th></th>\n",
       "      <th>Season</th>\n",
       "      <th>Daynum</th>\n",
       "      <th>Wteam</th>\n",
       "      <th>Wscore</th>\n",
       "      <th>Lteam</th>\n",
       "      <th>Lscore</th>\n",
       "      <th>Wloc</th>\n",
       "      <th>Numot</th>\n",
       "    </tr>\n",
       "  </thead>\n",
       "  <tbody>\n",
       "    <tr>\n",
       "      <th>0</th>\n",
       "      <td>1985</td>\n",
       "      <td>20</td>\n",
       "      <td>1228</td>\n",
       "      <td>81</td>\n",
       "      <td>1328</td>\n",
       "      <td>64</td>\n",
       "      <td>N</td>\n",
       "      <td>0</td>\n",
       "    </tr>\n",
       "    <tr>\n",
       "      <th>1</th>\n",
       "      <td>1985</td>\n",
       "      <td>25</td>\n",
       "      <td>1106</td>\n",
       "      <td>77</td>\n",
       "      <td>1354</td>\n",
       "      <td>70</td>\n",
       "      <td>H</td>\n",
       "      <td>0</td>\n",
       "    </tr>\n",
       "    <tr>\n",
       "      <th>2</th>\n",
       "      <td>1985</td>\n",
       "      <td>25</td>\n",
       "      <td>1112</td>\n",
       "      <td>63</td>\n",
       "      <td>1223</td>\n",
       "      <td>56</td>\n",
       "      <td>H</td>\n",
       "      <td>0</td>\n",
       "    </tr>\n",
       "    <tr>\n",
       "      <th>3</th>\n",
       "      <td>1985</td>\n",
       "      <td>25</td>\n",
       "      <td>1165</td>\n",
       "      <td>70</td>\n",
       "      <td>1432</td>\n",
       "      <td>54</td>\n",
       "      <td>H</td>\n",
       "      <td>0</td>\n",
       "    </tr>\n",
       "    <tr>\n",
       "      <th>4</th>\n",
       "      <td>1985</td>\n",
       "      <td>25</td>\n",
       "      <td>1192</td>\n",
       "      <td>86</td>\n",
       "      <td>1447</td>\n",
       "      <td>74</td>\n",
       "      <td>H</td>\n",
       "      <td>0</td>\n",
       "    </tr>\n",
       "  </tbody>\n",
       "</table>\n",
       "</div>"
      ],
      "text/plain": [
       "   Season  Daynum  Wteam  Wscore  Lteam  Lscore Wloc  Numot\n",
       "0    1985      20   1228      81   1328      64    N      0\n",
       "1    1985      25   1106      77   1354      70    H      0\n",
       "2    1985      25   1112      63   1223      56    H      0\n",
       "3    1985      25   1165      70   1432      54    H      0\n",
       "4    1985      25   1192      86   1447      74    H      0"
      ]
     },
     "execution_count": 7,
     "metadata": {},
     "output_type": "execute_result"
    }
   ],
   "source": [
    "compact_df = pd.read_csv('../data/RegularSeasonCompactResults.csv')\n",
    "print compact_df.shape\n",
    "compact_df.head()"
   ]
  },
  {
   "cell_type": "markdown",
   "metadata": {},
   "source": [
    "# Define functions"
   ]
  },
  {
   "cell_type": "code",
   "execution_count": 107,
   "metadata": {
    "collapsed": false
   },
   "outputs": [],
   "source": [
    "def get_season(data_df, year):\n",
    "    '''\n",
    "    returns all games for a given season (year)\n",
    "    '''\n",
    "    df_year = data_df[data_df['Season']==2016]\n",
    "    return df_year\n",
    "\n",
    "def get_team_array(df_year, team_id):\n",
    "    '''\n",
    "    enter a dataframe for a particular year (df_year) and team (team_id)\n",
    "    and return a new dataframe for a particular team (t_df)\n",
    "    '''\n",
    "    w_array = np.array(df_year['Wteam'] == team_id)\n",
    "    l_array = np.array(df_year['Lteam'] == team_id)\n",
    "    new_array = w_array + l_array\n",
    "    t_df = df_year[new_array]\n",
    "    return t_df\n",
    "\n",
    "def last_n_games(t_df, n):\n",
    "    '''\n",
    "    takes a dataframe for a team's season and restricts\n",
    "    to the last n games (t_n_df)\n",
    "    '''\n",
    "    t_n_df = t_df[-n:]\n",
    "    return t_n_df\n",
    "\n",
    "def calculate_win_percentage(t_n_df, team_id):\n",
    "    '''\n",
    "    Takes the last n games (t_n_df) of a team (team_id) and returns\n",
    "    the winning percentage (win_percent)\n",
    "    '''\n",
    "    wins = len(t_n_df[t_n_df['Wteam']==team_id])\n",
    "    losses = len(t_n_df[t_n_df['Lteam']==team_id])\n",
    "    win_percent = float(wins) / (wins + losses)\n",
    "    return win_percent\n"
   ]
  },
  {
   "cell_type": "markdown",
   "metadata": {},
   "source": [
    "# Get season win percentages for all teams"
   ]
  },
  {
   "cell_type": "code",
   "execution_count": 133,
   "metadata": {
    "collapsed": false,
    "scrolled": true
   },
   "outputs": [
    {
     "data": {
      "text/html": [
       "<div>\n",
       "<table border=\"1\" class=\"dataframe\">\n",
       "  <thead>\n",
       "    <tr style=\"text-align: right;\">\n",
       "      <th></th>\n",
       "      <th>Team_Id</th>\n",
       "      <th>Team_Name</th>\n",
       "      <th>Win_Percent</th>\n",
       "    </tr>\n",
       "  </thead>\n",
       "  <tbody>\n",
       "    <tr>\n",
       "      <th>0</th>\n",
       "      <td>1101</td>\n",
       "      <td>Abilene Chr</td>\n",
       "      <td>0.40</td>\n",
       "    </tr>\n",
       "    <tr>\n",
       "      <th>1</th>\n",
       "      <td>1102</td>\n",
       "      <td>Air Force</td>\n",
       "      <td>0.30</td>\n",
       "    </tr>\n",
       "    <tr>\n",
       "      <th>2</th>\n",
       "      <td>1103</td>\n",
       "      <td>Akron</td>\n",
       "      <td>0.70</td>\n",
       "    </tr>\n",
       "    <tr>\n",
       "      <th>3</th>\n",
       "      <td>1104</td>\n",
       "      <td>Alabama</td>\n",
       "      <td>0.45</td>\n",
       "    </tr>\n",
       "    <tr>\n",
       "      <th>4</th>\n",
       "      <td>1105</td>\n",
       "      <td>Alabama A&amp;M</td>\n",
       "      <td>0.35</td>\n",
       "    </tr>\n",
       "  </tbody>\n",
       "</table>\n",
       "</div>"
      ],
      "text/plain": [
       "   Team_Id    Team_Name  Win_Percent\n",
       "0     1101  Abilene Chr         0.40\n",
       "1     1102    Air Force         0.30\n",
       "2     1103        Akron         0.70\n",
       "3     1104      Alabama         0.45\n",
       "4     1105  Alabama A&M         0.35"
      ]
     },
     "execution_count": 133,
     "metadata": {},
     "output_type": "execute_result"
    }
   ],
   "source": [
    "# 2016 data only!\n",
    "df_16 = get_season(compact_df, 2016)\n",
    "\n",
    "win_percent_dict = {'Team_Id':[], 'Team_Name':[], 'Win_Percent':[]}\n",
    "\n",
    "for i in range(teams_df.shape[0]):\n",
    "    team_id = teams_df.iloc[i]['Team_Id']\n",
    "    team_name = teams_df.iloc[i]['Team_Name']\n",
    "    t_df = get_team_array(df_16, team_id)\n",
    "    if t_df.shape[0] >= 20:\n",
    "        t_n_df = last_n_games(t_df, 20)\n",
    "        win_p = calculate_win_percentage(t_n_df, team_id)\n",
    "        #print team_id, team_name, win_p\n",
    "        win_percent_dict['Team_Id'].append(team_id)\n",
    "        win_percent_dict['Team_Name'].append(team_name)\n",
    "        win_percent_dict['Win_Percent'].append(win_p)\n",
    "\n",
    "win_percent_df = pd.DataFrame(win_percent_dict)\n",
    "win_percent_df.head()"
   ]
  },
  {
   "cell_type": "markdown",
   "metadata": {},
   "source": [
    "# Define more functions"
   ]
  },
  {
   "cell_type": "code",
   "execution_count": 151,
   "metadata": {
    "collapsed": false
   },
   "outputs": [
    {
     "name": "stdout",
     "output_type": "stream",
     "text": [
      "(20, 8)\n"
     ]
    },
    {
     "data": {
      "text/html": [
       "<div>\n",
       "<table border=\"1\" class=\"dataframe\">\n",
       "  <thead>\n",
       "    <tr style=\"text-align: right;\">\n",
       "      <th></th>\n",
       "      <th>Season</th>\n",
       "      <th>Daynum</th>\n",
       "      <th>Wteam</th>\n",
       "      <th>Wscore</th>\n",
       "      <th>Lteam</th>\n",
       "      <th>Lscore</th>\n",
       "      <th>Wloc</th>\n",
       "      <th>Numot</th>\n",
       "    </tr>\n",
       "  </thead>\n",
       "  <tbody>\n",
       "    <tr>\n",
       "      <th>142089</th>\n",
       "      <td>2016</td>\n",
       "      <td>61</td>\n",
       "      <td>1438</td>\n",
       "      <td>77</td>\n",
       "      <td>1323</td>\n",
       "      <td>66</td>\n",
       "      <td>H</td>\n",
       "      <td>0</td>\n",
       "    </tr>\n",
       "    <tr>\n",
       "      <th>142270</th>\n",
       "      <td>2016</td>\n",
       "      <td>66</td>\n",
       "      <td>1323</td>\n",
       "      <td>82</td>\n",
       "      <td>1130</td>\n",
       "      <td>54</td>\n",
       "      <td>A</td>\n",
       "      <td>0</td>\n",
       "    </tr>\n",
       "    <tr>\n",
       "      <th>142401</th>\n",
       "      <td>2016</td>\n",
       "      <td>68</td>\n",
       "      <td>1338</td>\n",
       "      <td>86</td>\n",
       "      <td>1323</td>\n",
       "      <td>82</td>\n",
       "      <td>A</td>\n",
       "      <td>0</td>\n",
       "    </tr>\n",
       "    <tr>\n",
       "      <th>142533</th>\n",
       "      <td>2016</td>\n",
       "      <td>72</td>\n",
       "      <td>1323</td>\n",
       "      <td>72</td>\n",
       "      <td>1210</td>\n",
       "      <td>64</td>\n",
       "      <td>H</td>\n",
       "      <td>0</td>\n",
       "    </tr>\n",
       "    <tr>\n",
       "      <th>142707</th>\n",
       "      <td>2016</td>\n",
       "      <td>75</td>\n",
       "      <td>1323</td>\n",
       "      <td>95</td>\n",
       "      <td>1181</td>\n",
       "      <td>91</td>\n",
       "      <td>A</td>\n",
       "      <td>0</td>\n",
       "    </tr>\n",
       "  </tbody>\n",
       "</table>\n",
       "</div>"
      ],
      "text/plain": [
       "        Season  Daynum  Wteam  Wscore  Lteam  Lscore Wloc  Numot\n",
       "142089    2016      61   1438      77   1323      66    H      0\n",
       "142270    2016      66   1323      82   1130      54    A      0\n",
       "142401    2016      68   1338      86   1323      82    A      0\n",
       "142533    2016      72   1323      72   1210      64    H      0\n",
       "142707    2016      75   1323      95   1181      91    A      0"
      ]
     },
     "execution_count": 151,
     "metadata": {},
     "output_type": "execute_result"
    }
   ],
   "source": [
    "# iterate through games for a team\n",
    "t_df = get_team_array(df_16, 1323)\n",
    "t_n_df = last_n_games(t_df, 20)\n",
    "print t_n_df.shape\n",
    "t_n_df.head()"
   ]
  },
  {
   "cell_type": "code",
   "execution_count": 156,
   "metadata": {
    "collapsed": false
   },
   "outputs": [
    {
     "name": "stdout",
     "output_type": "stream",
     "text": [
      "0.6\n"
     ]
    }
   ],
   "source": [
    "def fetch_win_percent(win_percent_df, team_id):\n",
    "    '''\n",
    "    returns the winning percentage (win_p) for a given team (team_id) by\n",
    "    querying the winning perecentage dataframe (win_percent_df)\n",
    "    '''\n",
    "    win_percent_series = win_percent_df[win_percent_df['Team_Id'] == team_id]['Win_Percent']\n",
    "    win_p = list(win_percent_series)[0]\n",
    "    return win_p\n",
    "\n",
    "win_p = fetch_win_percent(win_percent_df, 1323)\n",
    "print win_p"
   ]
  },
  {
   "cell_type": "code",
   "execution_count": 161,
   "metadata": {
    "collapsed": false
   },
   "outputs": [
    {
     "name": "stdout",
     "output_type": "stream",
     "text": [
      "(1323, 0.6) (1438, 0.7) -11 -0.1\n",
      "(1323, 0.6) (1130, 0.05) 28 0.55\n",
      "(1323, 0.6) (1338, 0.5) -4 0.1\n",
      "(1323, 0.6) (1210, 0.45) 8 0.15\n",
      "(1323, 0.6) (1181, 0.6) 4 0.0\n",
      "(1323, 0.6) (1439, 0.55) 2 0.05\n",
      "(1323, 0.6) (1130, 0.05) 27 0.55\n",
      "(1323, 0.6) (1393, 0.5) -15 0.1\n",
      "(1323, 0.6) (1448, 0.15) 23 0.45\n",
      "(1323, 0.6) (1274, 0.7) -9 -0.1\n",
      "(1323, 0.6) (1314, 0.8) 4 -0.2\n",
      "(1323, 0.6) (1155, 0.5) 6 0.1\n",
      "(1323, 0.6) (1257, 0.65) 5 -0.05\n",
      "(1323, 0.6) (1210, 0.45) -1 0.15\n",
      "(1323, 0.6) (1448, 0.15) 11 0.45\n",
      "(1323, 0.6) (1199, 0.45) -21 0.15\n",
      "(1323, 0.6) (1274, 0.7) -18 -0.1\n",
      "(1323, 0.6) (1301, 0.3) 14 0.3\n",
      "(1323, 0.6) (1181, 0.6) 5 0.0\n",
      "(1323, 0.6) (1314, 0.8) -31 -0.2\n"
     ]
    }
   ],
   "source": [
    "team_id = 1323\n",
    "\n",
    "A = []\n",
    "B = []\n",
    "\n",
    "for index, row in t_n_df.iterrows():\n",
    "    #print row\n",
    "    wteam = row['Wteam']\n",
    "    lteam = row['Lteam']\n",
    "    if wteam == team_id:\n",
    "        score_margin = row['Wscore'] - row['Lscore']\n",
    "        other_team = lteam\n",
    "    else:\n",
    "        score_margin = row['Lscore'] - row['Wscore']\n",
    "        other_team = wteam\n",
    "    # fetchs winning percentages\n",
    "    win_p1 = round(fetch_win_percent(win_percent_df, team_id),2)\n",
    "    win_p2 = round(fetch_win_percent(win_percent_df, other_team),2)\n",
    "    print (team_id,win_p1), (other_team,win_p2), score_margin, win_p1-win_p2\n",
    "    A.append(score_margin)\n",
    "    B.append(win_p1-win_p2)"
   ]
  },
  {
   "cell_type": "code",
   "execution_count": 164,
   "metadata": {
    "collapsed": false
   },
   "outputs": [
    {
     "data": {
      "text/plain": [
       "<matplotlib.collections.PathCollection at 0x11311c510>"
      ]
     },
     "execution_count": 164,
     "metadata": {},
     "output_type": "execute_result"
    },
    {
     "data": {
      "image/png": "[encoded data removed]",
      "text/plain": [
       "<matplotlib.figure.Figure at 0x112b36150>"
      ]
     },
     "metadata": {},
     "output_type": "display_data"
    }
   ],
   "source": [
    "plt.scatter(A,B)"
   ]
  },
  {
   "cell_type": "code",
   "execution_count": null,
   "metadata": {
    "collapsed": true
   },
   "outputs": [],
   "source": []
  }
 ],
 "metadata": {
  "kernelspec": {
   "display_name": "Python 2",
   "language": "python",
   "name": "python2"
  },
  "language_info": {
   "codemirror_mode": {
    "name": "ipython",
    "version": 2
   },
   "file_extension": ".py",
   "mimetype": "text/x-python",
   "name": "python",
   "nbconvert_exporter": "python",
   "pygments_lexer": "ipython2",
   "version": "2.7.12"
  }
 },
 "nbformat": 4,
 "nbformat_minor": 0
}
