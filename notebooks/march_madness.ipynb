{
 "cells": [
  {
   "cell_type": "markdown",
   "metadata": {},
   "source": [
    "# Import reqs"
   ]
  },
  {
   "cell_type": "code",
   "execution_count": 1,
   "metadata": {
    "collapsed": true
   },
   "outputs": [],
   "source": [
    "import pandas as pd\n",
    "import numpy as np\n",
    "import matplotlib.pyplot as plt\n",
    "% matplotlib inline"
   ]
  },
  {
   "cell_type": "markdown",
   "metadata": {},
   "source": [
    "# Import data"
   ]
  },
  {
   "cell_type": "code",
   "execution_count": 2,
   "metadata": {
    "collapsed": false
   },
   "outputs": [
    {
     "name": "stdout",
     "output_type": "stream",
     "text": [
      "(364, 2)\n"
     ]
    },
    {
     "data": {
      "text/html": [
       "<div>\n",
       "<table border=\"1\" class=\"dataframe\">\n",
       "  <thead>\n",
       "    <tr style=\"text-align: right;\">\n",
       "      <th></th>\n",
       "      <th>Team_Id</th>\n",
       "      <th>Team_Name</th>\n",
       "    </tr>\n",
       "  </thead>\n",
       "  <tbody>\n",
       "    <tr>\n",
       "      <th>0</th>\n",
       "      <td>1101</td>\n",
       "      <td>Abilene Chr</td>\n",
       "    </tr>\n",
       "    <tr>\n",
       "      <th>1</th>\n",
       "      <td>1102</td>\n",
       "      <td>Air Force</td>\n",
       "    </tr>\n",
       "    <tr>\n",
       "      <th>2</th>\n",
       "      <td>1103</td>\n",
       "      <td>Akron</td>\n",
       "    </tr>\n",
       "    <tr>\n",
       "      <th>3</th>\n",
       "      <td>1104</td>\n",
       "      <td>Alabama</td>\n",
       "    </tr>\n",
       "    <tr>\n",
       "      <th>4</th>\n",
       "      <td>1105</td>\n",
       "      <td>Alabama A&amp;M</td>\n",
       "    </tr>\n",
       "  </tbody>\n",
       "</table>\n",
       "</div>"
      ],
      "text/plain": [
       "   Team_Id    Team_Name\n",
       "0     1101  Abilene Chr\n",
       "1     1102    Air Force\n",
       "2     1103        Akron\n",
       "3     1104      Alabama\n",
       "4     1105  Alabama A&M"
      ]
     },
     "execution_count": 2,
     "metadata": {},
     "output_type": "execute_result"
    }
   ],
   "source": [
    "teams_df = pd.read_csv('../data/Teams.csv')\n",
    "print teams_df.shape\n",
    "teams_df.head()"
   ]
  },
  {
   "cell_type": "code",
   "execution_count": 3,
   "metadata": {
    "collapsed": false
   },
   "outputs": [
    {
     "name": "stdout",
     "output_type": "stream",
     "text": [
      "(145289, 8)\n"
     ]
    },
    {
     "data": {
      "text/html": [
       "<div>\n",
       "<table border=\"1\" class=\"dataframe\">\n",
       "  <thead>\n",
       "    <tr style=\"text-align: right;\">\n",
       "      <th></th>\n",
       "      <th>Season</th>\n",
       "      <th>Daynum</th>\n",
       "      <th>Wteam</th>\n",
       "      <th>Wscore</th>\n",
       "      <th>Lteam</th>\n",
       "      <th>Lscore</th>\n",
       "      <th>Wloc</th>\n",
       "      <th>Numot</th>\n",
       "    </tr>\n",
       "  </thead>\n",
       "  <tbody>\n",
       "    <tr>\n",
       "      <th>0</th>\n",
       "      <td>1985</td>\n",
       "      <td>20</td>\n",
       "      <td>1228</td>\n",
       "      <td>81</td>\n",
       "      <td>1328</td>\n",
       "      <td>64</td>\n",
       "      <td>N</td>\n",
       "      <td>0</td>\n",
       "    </tr>\n",
       "    <tr>\n",
       "      <th>1</th>\n",
       "      <td>1985</td>\n",
       "      <td>25</td>\n",
       "      <td>1106</td>\n",
       "      <td>77</td>\n",
       "      <td>1354</td>\n",
       "      <td>70</td>\n",
       "      <td>H</td>\n",
       "      <td>0</td>\n",
       "    </tr>\n",
       "    <tr>\n",
       "      <th>2</th>\n",
       "      <td>1985</td>\n",
       "      <td>25</td>\n",
       "      <td>1112</td>\n",
       "      <td>63</td>\n",
       "      <td>1223</td>\n",
       "      <td>56</td>\n",
       "      <td>H</td>\n",
       "      <td>0</td>\n",
       "    </tr>\n",
       "    <tr>\n",
       "      <th>3</th>\n",
       "      <td>1985</td>\n",
       "      <td>25</td>\n",
       "      <td>1165</td>\n",
       "      <td>70</td>\n",
       "      <td>1432</td>\n",
       "      <td>54</td>\n",
       "      <td>H</td>\n",
       "      <td>0</td>\n",
       "    </tr>\n",
       "    <tr>\n",
       "      <th>4</th>\n",
       "      <td>1985</td>\n",
       "      <td>25</td>\n",
       "      <td>1192</td>\n",
       "      <td>86</td>\n",
       "      <td>1447</td>\n",
       "      <td>74</td>\n",
       "      <td>H</td>\n",
       "      <td>0</td>\n",
       "    </tr>\n",
       "  </tbody>\n",
       "</table>\n",
       "</div>"
      ],
      "text/plain": [
       "   Season  Daynum  Wteam  Wscore  Lteam  Lscore Wloc  Numot\n",
       "0    1985      20   1228      81   1328      64    N      0\n",
       "1    1985      25   1106      77   1354      70    H      0\n",
       "2    1985      25   1112      63   1223      56    H      0\n",
       "3    1985      25   1165      70   1432      54    H      0\n",
       "4    1985      25   1192      86   1447      74    H      0"
      ]
     },
     "execution_count": 3,
     "metadata": {},
     "output_type": "execute_result"
    }
   ],
   "source": [
    "compact_df = pd.read_csv('../data/RegularSeasonCompactResults.csv')\n",
    "print compact_df.shape\n",
    "compact_df.head()"
   ]
  },
  {
   "cell_type": "markdown",
   "metadata": {},
   "source": [
    "# Define functions"
   ]
  },
  {
   "cell_type": "code",
   "execution_count": 77,
   "metadata": {
    "collapsed": false
   },
   "outputs": [],
   "source": [
    "def get_season(data_df, year):\n",
    "    '''\n",
    "    returns all games for a given season (year)\n",
    "    '''\n",
    "    df_year = data_df[data_df['Season']==2016]\n",
    "    return df_year\n",
    "\n",
    "def get_team_array(df_year, team_id):\n",
    "    '''\n",
    "    enter a dataframe for a particular year (df_year) and team (team_id)\n",
    "    and return a new dataframe for a particular team (t_df)\n",
    "    '''\n",
    "    w_array = np.array(df_year['Wteam'] == team_id)\n",
    "    l_array = np.array(df_year['Lteam'] == team_id)\n",
    "    new_array = w_array + l_array\n",
    "    t_df = df_year[new_array]\n",
    "    return t_df\n",
    "\n",
    "def last_n_games(t_df, n):\n",
    "    '''\n",
    "    takes a dataframe for a team's season and restricts\n",
    "    to the last n games (t_n_df)\n",
    "    '''\n",
    "    t_n_df = t_df[-n:]\n",
    "    return t_n_df\n",
    "\n",
    "def calculate_win_percentage(t_n_df, team_id):\n",
    "    '''\n",
    "    Takes the last n games (t_n_df) of a team (team_id) and returns\n",
    "    the winning percentage (win_percent)\n",
    "    '''\n",
    "    wins = len(t_n_df[t_n_df['Wteam']==team_id])\n",
    "    losses = len(t_n_df[t_n_df['Lteam']==team_id])\n",
    "    win_percent = float(wins) / (wins + losses)\n",
    "    return win_percent\n",
    "\n",
    "\n",
    "def get_score_diff(x):\n",
    "    return x['Wscore'] - x['Lscore'] \n",
    "\n",
    "def win_vs_loss(row, team_id):\n",
    "    if row['Wteam'] == team_id:\n",
    "        return 1\n",
    "    else:\n",
    "        return -1\n",
    "    \n",
    "def get_correct_score_diff(x):\n",
    "    return x['AbsScoreDiff'] * x['WL'] \n",
    "\n",
    "def calculate_avg_point_margin(t_df, team_id):\n",
    "    t_df.loc[:,'AbsScoreDiff'] = t_df.apply(lambda x:get_score_diff(x), axis=1)\n",
    "    t_df.loc[:,'WL'] = t_df.apply(lambda row:win_vs_loss(row, team_id), axis=1)\n",
    "    t_df.loc[:,'ScoreDiff'] = t_df.apply(lambda x:get_correct_score_diff(x), axis=1)\n",
    "    return np.mean(t_df['ScoreDiff'])"
   ]
  },
  {
   "cell_type": "markdown",
   "metadata": {},
   "source": [
    "# Analysis: season aggregates"
   ]
  },
  {
   "cell_type": "code",
   "execution_count": 82,
   "metadata": {
    "collapsed": false
   },
   "outputs": [],
   "source": [
    "# get season\n",
    "df_16 = get_season(compact_df, 2016)\n",
    "\n",
    "season_data_dict = {'Team_Id':[], 'Team_Name':[], 'Win_Percent':[], 'Score_Margin':[]}\n",
    "\n",
    "for i in range(teams_df.shape[0]):\n",
    "    team_id = teams_df.iloc[i]['Team_Id']\n",
    "    team_name = teams_df.iloc[i]['Team_Name']\n",
    "    t_df = get_team_array(df_16, team_id)\n",
    "    if t_df.shape[0] >= 10:\n",
    "        win_p = calculate_win_percentage(t_df, team_id)\n",
    "        margin = calculate_avg_point_margin(t_df, team_id)\n",
    "        #print team_id, team_name, t_df.shape[0], round(win_p,3), round(margin,2) \n",
    "        season_data_dict['Team_Id'].append(team_id)\n",
    "        season_data_dict['Team_Name'].append(team_name)\n",
    "        season_data_dict['Win_Percent'].append(round(win_p,3))\n",
    "        season_data_dict['Score_Margin'].append(round(margin,2))"
   ]
  },
  {
   "cell_type": "code",
   "execution_count": 178,
   "metadata": {
    "collapsed": false
   },
   "outputs": [],
   "source": [
    "season_16_df = pd.DataFrame(season_data_dict)\n",
    "season_16_df.head()\n",
    "season_16_df.to_csv('../csv_files/season_team_agg_2016.csv',header=True)"
   ]
  },
  {
   "cell_type": "markdown",
   "metadata": {},
   "source": [
    "# Structure Training Set"
   ]
  },
  {
   "cell_type": "code",
   "execution_count": 133,
   "metadata": {
    "collapsed": false
   },
   "outputs": [
    {
     "name": "stdout",
     "output_type": "stream",
     "text": [
      "(5369, 8)\n"
     ]
    },
    {
     "data": {
      "text/html": [
       "<div>\n",
       "<table border=\"1\" class=\"dataframe\">\n",
       "  <thead>\n",
       "    <tr style=\"text-align: right;\">\n",
       "      <th></th>\n",
       "      <th>Season</th>\n",
       "      <th>Daynum</th>\n",
       "      <th>Wteam</th>\n",
       "      <th>Wscore</th>\n",
       "      <th>Lteam</th>\n",
       "      <th>Lscore</th>\n",
       "      <th>Wloc</th>\n",
       "      <th>Numot</th>\n",
       "    </tr>\n",
       "  </thead>\n",
       "  <tbody>\n",
       "    <tr>\n",
       "      <th>139920</th>\n",
       "      <td>2016</td>\n",
       "      <td>11</td>\n",
       "      <td>1104</td>\n",
       "      <td>77</td>\n",
       "      <td>1244</td>\n",
       "      <td>64</td>\n",
       "      <td>H</td>\n",
       "      <td>0</td>\n",
       "    </tr>\n",
       "    <tr>\n",
       "      <th>139921</th>\n",
       "      <td>2016</td>\n",
       "      <td>11</td>\n",
       "      <td>1105</td>\n",
       "      <td>68</td>\n",
       "      <td>1408</td>\n",
       "      <td>67</td>\n",
       "      <td>A</td>\n",
       "      <td>1</td>\n",
       "    </tr>\n",
       "    <tr>\n",
       "      <th>139922</th>\n",
       "      <td>2016</td>\n",
       "      <td>11</td>\n",
       "      <td>1112</td>\n",
       "      <td>79</td>\n",
       "      <td>1334</td>\n",
       "      <td>61</td>\n",
       "      <td>H</td>\n",
       "      <td>0</td>\n",
       "    </tr>\n",
       "    <tr>\n",
       "      <th>139923</th>\n",
       "      <td>2016</td>\n",
       "      <td>11</td>\n",
       "      <td>1115</td>\n",
       "      <td>58</td>\n",
       "      <td>1370</td>\n",
       "      <td>56</td>\n",
       "      <td>A</td>\n",
       "      <td>0</td>\n",
       "    </tr>\n",
       "    <tr>\n",
       "      <th>139924</th>\n",
       "      <td>2016</td>\n",
       "      <td>11</td>\n",
       "      <td>1116</td>\n",
       "      <td>86</td>\n",
       "      <td>1380</td>\n",
       "      <td>68</td>\n",
       "      <td>H</td>\n",
       "      <td>0</td>\n",
       "    </tr>\n",
       "  </tbody>\n",
       "</table>\n",
       "</div>"
      ],
      "text/plain": [
       "        Season  Daynum  Wteam  Wscore  Lteam  Lscore Wloc  Numot\n",
       "139920    2016      11   1104      77   1244      64    H      0\n",
       "139921    2016      11   1105      68   1408      67    A      1\n",
       "139922    2016      11   1112      79   1334      61    H      0\n",
       "139923    2016      11   1115      58   1370      56    A      0\n",
       "139924    2016      11   1116      86   1380      68    H      0"
      ]
     },
     "execution_count": 133,
     "metadata": {},
     "output_type": "execute_result"
    }
   ],
   "source": [
    "df_16 = get_season(compact_df, 2016)\n",
    "print df_16.shape\n",
    "df_16.head()"
   ]
  },
  {
   "cell_type": "code",
   "execution_count": 142,
   "metadata": {
    "collapsed": false
   },
   "outputs": [
    {
     "data": {
      "text/html": [
       "<div>\n",
       "<table border=\"1\" class=\"dataframe\">\n",
       "  <thead>\n",
       "    <tr style=\"text-align: right;\">\n",
       "      <th></th>\n",
       "      <th>Season</th>\n",
       "      <th>Daynum</th>\n",
       "      <th>Wteam</th>\n",
       "      <th>Wscore</th>\n",
       "      <th>Lteam</th>\n",
       "      <th>Lscore</th>\n",
       "      <th>Wloc</th>\n",
       "      <th>Numot</th>\n",
       "      <th>Game_ID</th>\n",
       "      <th>Team1</th>\n",
       "      <th>Team2</th>\n",
       "      <th>WL</th>\n",
       "    </tr>\n",
       "  </thead>\n",
       "  <tbody>\n",
       "    <tr>\n",
       "      <th>139920</th>\n",
       "      <td>2016</td>\n",
       "      <td>11</td>\n",
       "      <td>1104</td>\n",
       "      <td>77</td>\n",
       "      <td>1244</td>\n",
       "      <td>64</td>\n",
       "      <td>H</td>\n",
       "      <td>0</td>\n",
       "      <td>2016-11-1104-1244</td>\n",
       "      <td>1104</td>\n",
       "      <td>1244</td>\n",
       "      <td>True</td>\n",
       "    </tr>\n",
       "    <tr>\n",
       "      <th>139921</th>\n",
       "      <td>2016</td>\n",
       "      <td>11</td>\n",
       "      <td>1105</td>\n",
       "      <td>68</td>\n",
       "      <td>1408</td>\n",
       "      <td>67</td>\n",
       "      <td>A</td>\n",
       "      <td>1</td>\n",
       "      <td>2016-11-1105-1408</td>\n",
       "      <td>1105</td>\n",
       "      <td>1408</td>\n",
       "      <td>True</td>\n",
       "    </tr>\n",
       "    <tr>\n",
       "      <th>139922</th>\n",
       "      <td>2016</td>\n",
       "      <td>11</td>\n",
       "      <td>1112</td>\n",
       "      <td>79</td>\n",
       "      <td>1334</td>\n",
       "      <td>61</td>\n",
       "      <td>H</td>\n",
       "      <td>0</td>\n",
       "      <td>2016-11-1112-1334</td>\n",
       "      <td>1112</td>\n",
       "      <td>1334</td>\n",
       "      <td>True</td>\n",
       "    </tr>\n",
       "    <tr>\n",
       "      <th>139923</th>\n",
       "      <td>2016</td>\n",
       "      <td>11</td>\n",
       "      <td>1115</td>\n",
       "      <td>58</td>\n",
       "      <td>1370</td>\n",
       "      <td>56</td>\n",
       "      <td>A</td>\n",
       "      <td>0</td>\n",
       "      <td>2016-11-1115-1370</td>\n",
       "      <td>1115</td>\n",
       "      <td>1370</td>\n",
       "      <td>True</td>\n",
       "    </tr>\n",
       "    <tr>\n",
       "      <th>139924</th>\n",
       "      <td>2016</td>\n",
       "      <td>11</td>\n",
       "      <td>1116</td>\n",
       "      <td>86</td>\n",
       "      <td>1380</td>\n",
       "      <td>68</td>\n",
       "      <td>H</td>\n",
       "      <td>0</td>\n",
       "      <td>2016-11-1116-1380</td>\n",
       "      <td>1116</td>\n",
       "      <td>1380</td>\n",
       "      <td>True</td>\n",
       "    </tr>\n",
       "  </tbody>\n",
       "</table>\n",
       "</div>"
      ],
      "text/plain": [
       "        Season  Daynum  Wteam  Wscore  Lteam  Lscore Wloc  Numot  \\\n",
       "139920    2016      11   1104      77   1244      64    H      0   \n",
       "139921    2016      11   1105      68   1408      67    A      1   \n",
       "139922    2016      11   1112      79   1334      61    H      0   \n",
       "139923    2016      11   1115      58   1370      56    A      0   \n",
       "139924    2016      11   1116      86   1380      68    H      0   \n",
       "\n",
       "                  Game_ID  Team1  Team2    WL  \n",
       "139920  2016-11-1104-1244   1104   1244  True  \n",
       "139921  2016-11-1105-1408   1105   1408  True  \n",
       "139922  2016-11-1112-1334   1112   1334  True  \n",
       "139923  2016-11-1115-1370   1115   1370  True  \n",
       "139924  2016-11-1116-1380   1116   1380  True  "
      ]
     },
     "execution_count": 142,
     "metadata": {},
     "output_type": "execute_result"
    }
   ],
   "source": [
    "def get_uniq_game_id(x):\n",
    "    matchup = sorted([x['Wteam'],x['Lteam']])\n",
    "    return '-'.join([str(x['Season']),str(x['Daynum']),str(matchup[0]),str(matchup[1])])\n",
    "\n",
    "def get_team1(x):\n",
    "    team1 = min(x['Wteam'], x['Lteam'])\n",
    "    return team1\n",
    "\n",
    "def get_team2(x):\n",
    "    team1 = max(x['Wteam'], x['Lteam'])\n",
    "    return team1\n",
    "\n",
    "def team1_win(x):\n",
    "    win = x['Team1'] == x['Wteam']\n",
    "    return win\n",
    "\n",
    "df_16.loc[:,'Game_ID'] = df_16.apply(lambda x:get_uniq_game_id(x), axis=1)\n",
    "df_16.loc[:,'Team1'] = df_16.apply(lambda x:get_team1(x), axis=1)\n",
    "df_16.loc[:,'Team2'] = df_16.apply(lambda x:get_team2(x), axis=1)\n",
    "df_16.loc[:,'WL'] = df_16.apply(lambda x:team1_win(x), axis=1)\n",
    "df_16.head()"
   ]
  },
  {
   "cell_type": "code",
   "execution_count": 154,
   "metadata": {
    "collapsed": false
   },
   "outputs": [
    {
     "name": "stdout",
     "output_type": "stream",
     "text": [
      "(5369, 3)\n"
     ]
    },
    {
     "data": {
      "text/html": [
       "<div>\n",
       "<table border=\"1\" class=\"dataframe\">\n",
       "  <thead>\n",
       "    <tr style=\"text-align: right;\">\n",
       "      <th></th>\n",
       "      <th>Team1</th>\n",
       "      <th>Team2</th>\n",
       "      <th>WL</th>\n",
       "    </tr>\n",
       "  </thead>\n",
       "  <tbody>\n",
       "    <tr>\n",
       "      <th>139920</th>\n",
       "      <td>1104</td>\n",
       "      <td>1244</td>\n",
       "      <td>True</td>\n",
       "    </tr>\n",
       "    <tr>\n",
       "      <th>139921</th>\n",
       "      <td>1105</td>\n",
       "      <td>1408</td>\n",
       "      <td>True</td>\n",
       "    </tr>\n",
       "    <tr>\n",
       "      <th>139922</th>\n",
       "      <td>1112</td>\n",
       "      <td>1334</td>\n",
       "      <td>True</td>\n",
       "    </tr>\n",
       "    <tr>\n",
       "      <th>139923</th>\n",
       "      <td>1115</td>\n",
       "      <td>1370</td>\n",
       "      <td>True</td>\n",
       "    </tr>\n",
       "    <tr>\n",
       "      <th>139924</th>\n",
       "      <td>1116</td>\n",
       "      <td>1380</td>\n",
       "      <td>True</td>\n",
       "    </tr>\n",
       "  </tbody>\n",
       "</table>\n",
       "</div>"
      ],
      "text/plain": [
       "        Team1  Team2    WL\n",
       "139920   1104   1244  True\n",
       "139921   1105   1408  True\n",
       "139922   1112   1334  True\n",
       "139923   1115   1370  True\n",
       "139924   1116   1380  True"
      ]
     },
     "execution_count": 154,
     "metadata": {},
     "output_type": "execute_result"
    }
   ],
   "source": [
    "df_16_start = df_16[['Team1','Team2','WL']]\n",
    "print df_16_start.shape\n",
    "df_16_start.head()"
   ]
  },
  {
   "cell_type": "code",
   "execution_count": 160,
   "metadata": {
    "collapsed": false
   },
   "outputs": [],
   "source": [
    "t1_winp = []\n",
    "t1_marg = []\n",
    "for t1 in df_16_start['Team1']:\n",
    "    winp = list(season_16_df[season_16_df['Team_Id'] == t1]['Win_Percent'])[0]\n",
    "    marg = list(season_16_df[season_16_df['Team_Id'] == t1]['Score_Margin'])[0]\n",
    "    t1_winp.append(winp)\n",
    "    t1_marg.append(marg)\n",
    "\n",
    "t2_winp = []\n",
    "t2_marg = []\n",
    "for t2 in df_16_start['Team2']:\n",
    "    winp = list(season_16_df[season_16_df['Team_Id'] == t2]['Win_Percent'])[0]\n",
    "    marg = list(season_16_df[season_16_df['Team_Id'] == t2]['Score_Margin'])[0]\n",
    "    t2_winp.append(winp)\n",
    "    t2_marg.append(marg)"
   ]
  },
  {
   "cell_type": "code",
   "execution_count": 169,
   "metadata": {
    "collapsed": false
   },
   "outputs": [],
   "source": [
    "X1 = np.array(t1_winp) - np.array(t2_winp)\n",
    "X2 = np.array(t1_marg) - np.array(t2_marg)"
   ]
  },
  {
   "cell_type": "code",
   "execution_count": 166,
   "metadata": {
    "collapsed": false
   },
   "outputs": [
    {
     "data": {
      "text/plain": [
       "array([ True,  True,  True, ...,  True,  True,  True], dtype=bool)"
      ]
     },
     "execution_count": 166,
     "metadata": {},
     "output_type": "execute_result"
    }
   ],
   "source": [
    "Y = df_16_start['WL']\n",
    "np.array(Y)"
   ]
  },
  {
   "cell_type": "code",
   "execution_count": 170,
   "metadata": {
    "collapsed": false
   },
   "outputs": [
    {
     "data": {
      "text/plain": [
       "<matplotlib.collections.PathCollection at 0x119f23a90>"
      ]
     },
     "execution_count": 170,
     "metadata": {},
     "output_type": "execute_result"
    },
    {
     "data": {
      "image/png": "[encoded data removed]",
      "text/plain": [
       "<matplotlib.figure.Figure at 0x119e048d0>"
      ]
     },
     "metadata": {},
     "output_type": "display_data"
    }
   ],
   "source": [
    "plt.scatter(X1,Y, alpha=0.1)"
   ]
  },
  {
   "cell_type": "code",
   "execution_count": 171,
   "metadata": {
    "collapsed": false
   },
   "outputs": [
    {
     "data": {
      "text/plain": [
       "<matplotlib.collections.PathCollection at 0x119fd3990>"
      ]
     },
     "execution_count": 171,
     "metadata": {},
     "output_type": "execute_result"
    },
    {
     "data": {
      "image/png": "[encoded data removed]",
      "text/plain": [
       "<matplotlib.figure.Figure at 0x119e36bd0>"
      ]
     },
     "metadata": {},
     "output_type": "display_data"
    }
   ],
   "source": [
    "plt.scatter(X2,Y, alpha=0.1)"
   ]
  },
  {
   "cell_type": "code",
   "execution_count": 172,
   "metadata": {
    "collapsed": false
   },
   "outputs": [
    {
     "data": {
      "text/plain": [
       "<matplotlib.collections.PathCollection at 0x11a1cc7d0>"
      ]
     },
     "execution_count": 172,
     "metadata": {},
     "output_type": "execute_result"
    },
    {
     "data": {
      "image/png": "[encoded data removed]",
      "text/plain": [
       "<matplotlib.figure.Figure at 0x11a08aa10>"
      ]
     },
     "metadata": {},
     "output_type": "display_data"
    }
   ],
   "source": [
    "plt.scatter(X1,X2)"
   ]
  },
  {
   "cell_type": "code",
   "execution_count": 175,
   "metadata": {
    "collapsed": false
   },
   "outputs": [
    {
     "name": "stderr",
     "output_type": "stream",
     "text": [
      "/anaconda/lib/python2.7/site-packages/ipykernel/__main__.py:1: SettingWithCopyWarning: \n",
      "A value is trying to be set on a copy of a slice from a DataFrame.\n",
      "Try using .loc[row_indexer,col_indexer] = value instead\n",
      "\n",
      "See the caveats in the documentation: http://pandas.pydata.org/pandas-docs/stable/indexing.html#indexing-view-versus-copy\n",
      "  if __name__ == '__main__':\n",
      "/anaconda/lib/python2.7/site-packages/ipykernel/__main__.py:2: SettingWithCopyWarning: \n",
      "A value is trying to be set on a copy of a slice from a DataFrame.\n",
      "Try using .loc[row_indexer,col_indexer] = value instead\n",
      "\n",
      "See the caveats in the documentation: http://pandas.pydata.org/pandas-docs/stable/indexing.html#indexing-view-versus-copy\n",
      "  from ipykernel import kernelapp as app\n"
     ]
    }
   ],
   "source": [
    "df_16_start['delta_Win_Percentage'] = X1\n",
    "df_16_start['delta_Score_Margin'] = X1"
   ]
  },
  {
   "cell_type": "code",
   "execution_count": 176,
   "metadata": {
    "collapsed": false
   },
   "outputs": [
    {
     "data": {
      "text/html": [
       "<div>\n",
       "<table border=\"1\" class=\"dataframe\">\n",
       "  <thead>\n",
       "    <tr style=\"text-align: right;\">\n",
       "      <th></th>\n",
       "      <th>Team1</th>\n",
       "      <th>Team2</th>\n",
       "      <th>WL</th>\n",
       "      <th>delta_Win_Percentage</th>\n",
       "      <th>delta_Score_Margin</th>\n",
       "    </tr>\n",
       "  </thead>\n",
       "  <tbody>\n",
       "    <tr>\n",
       "      <th>139920</th>\n",
       "      <td>1104</td>\n",
       "      <td>1244</td>\n",
       "      <td>True</td>\n",
       "      <td>0.253</td>\n",
       "      <td>0.253</td>\n",
       "    </tr>\n",
       "    <tr>\n",
       "      <th>139921</th>\n",
       "      <td>1105</td>\n",
       "      <td>1408</td>\n",
       "      <td>True</td>\n",
       "      <td>0.004</td>\n",
       "      <td>0.004</td>\n",
       "    </tr>\n",
       "    <tr>\n",
       "      <th>139922</th>\n",
       "      <td>1112</td>\n",
       "      <td>1334</td>\n",
       "      <td>True</td>\n",
       "      <td>0.527</td>\n",
       "      <td>0.527</td>\n",
       "    </tr>\n",
       "    <tr>\n",
       "      <th>139923</th>\n",
       "      <td>1115</td>\n",
       "      <td>1370</td>\n",
       "      <td>True</td>\n",
       "      <td>-0.187</td>\n",
       "      <td>-0.187</td>\n",
       "    </tr>\n",
       "    <tr>\n",
       "      <th>139924</th>\n",
       "      <td>1116</td>\n",
       "      <td>1380</td>\n",
       "      <td>True</td>\n",
       "      <td>-0.113</td>\n",
       "      <td>-0.113</td>\n",
       "    </tr>\n",
       "  </tbody>\n",
       "</table>\n",
       "</div>"
      ],
      "text/plain": [
       "        Team1  Team2    WL  delta_Win_Percentage  delta_Score_Margin\n",
       "139920   1104   1244  True                 0.253               0.253\n",
       "139921   1105   1408  True                 0.004               0.004\n",
       "139922   1112   1334  True                 0.527               0.527\n",
       "139923   1115   1370  True                -0.187              -0.187\n",
       "139924   1116   1380  True                -0.113              -0.113"
      ]
     },
     "execution_count": 176,
     "metadata": {},
     "output_type": "execute_result"
    }
   ],
   "source": [
    "df_16_start.head()"
   ]
  },
  {
   "cell_type": "code",
   "execution_count": 179,
   "metadata": {
    "collapsed": true
   },
   "outputs": [],
   "source": [
    "df_16_start.to_csv('../csv_files/game_data_2016.csv',header=True)"
   ]
  },
  {
   "cell_type": "code",
   "execution_count": null,
   "metadata": {
    "collapsed": true
   },
   "outputs": [],
   "source": []
  },
  {
   "cell_type": "code",
   "execution_count": null,
   "metadata": {
    "collapsed": true
   },
   "outputs": [],
   "source": []
  },
  {
   "cell_type": "code",
   "execution_count": null,
   "metadata": {
    "collapsed": true
   },
   "outputs": [],
   "source": []
  },
  {
   "cell_type": "markdown",
   "metadata": {},
   "source": [
    "# Define more functions"
   ]
  },
  {
   "cell_type": "code",
   "execution_count": 6,
   "metadata": {
    "collapsed": false
   },
   "outputs": [
    {
     "name": "stdout",
     "output_type": "stream",
     "text": [
      "(20, 8)\n"
     ]
    },
    {
     "data": {
      "text/html": [
       "<div>\n",
       "<table border=\"1\" class=\"dataframe\">\n",
       "  <thead>\n",
       "    <tr style=\"text-align: right;\">\n",
       "      <th></th>\n",
       "      <th>Season</th>\n",
       "      <th>Daynum</th>\n",
       "      <th>Wteam</th>\n",
       "      <th>Wscore</th>\n",
       "      <th>Lteam</th>\n",
       "      <th>Lscore</th>\n",
       "      <th>Wloc</th>\n",
       "      <th>Numot</th>\n",
       "    </tr>\n",
       "  </thead>\n",
       "  <tbody>\n",
       "    <tr>\n",
       "      <th>142089</th>\n",
       "      <td>2016</td>\n",
       "      <td>61</td>\n",
       "      <td>1438</td>\n",
       "      <td>77</td>\n",
       "      <td>1323</td>\n",
       "      <td>66</td>\n",
       "      <td>H</td>\n",
       "      <td>0</td>\n",
       "    </tr>\n",
       "    <tr>\n",
       "      <th>142270</th>\n",
       "      <td>2016</td>\n",
       "      <td>66</td>\n",
       "      <td>1323</td>\n",
       "      <td>82</td>\n",
       "      <td>1130</td>\n",
       "      <td>54</td>\n",
       "      <td>A</td>\n",
       "      <td>0</td>\n",
       "    </tr>\n",
       "    <tr>\n",
       "      <th>142401</th>\n",
       "      <td>2016</td>\n",
       "      <td>68</td>\n",
       "      <td>1338</td>\n",
       "      <td>86</td>\n",
       "      <td>1323</td>\n",
       "      <td>82</td>\n",
       "      <td>A</td>\n",
       "      <td>0</td>\n",
       "    </tr>\n",
       "    <tr>\n",
       "      <th>142533</th>\n",
       "      <td>2016</td>\n",
       "      <td>72</td>\n",
       "      <td>1323</td>\n",
       "      <td>72</td>\n",
       "      <td>1210</td>\n",
       "      <td>64</td>\n",
       "      <td>H</td>\n",
       "      <td>0</td>\n",
       "    </tr>\n",
       "    <tr>\n",
       "      <th>142707</th>\n",
       "      <td>2016</td>\n",
       "      <td>75</td>\n",
       "      <td>1323</td>\n",
       "      <td>95</td>\n",
       "      <td>1181</td>\n",
       "      <td>91</td>\n",
       "      <td>A</td>\n",
       "      <td>0</td>\n",
       "    </tr>\n",
       "  </tbody>\n",
       "</table>\n",
       "</div>"
      ],
      "text/plain": [
       "        Season  Daynum  Wteam  Wscore  Lteam  Lscore Wloc  Numot\n",
       "142089    2016      61   1438      77   1323      66    H      0\n",
       "142270    2016      66   1323      82   1130      54    A      0\n",
       "142401    2016      68   1338      86   1323      82    A      0\n",
       "142533    2016      72   1323      72   1210      64    H      0\n",
       "142707    2016      75   1323      95   1181      91    A      0"
      ]
     },
     "execution_count": 6,
     "metadata": {},
     "output_type": "execute_result"
    }
   ],
   "source": [
    "# iterate through games for a team\n",
    "t_df = get_team_array(df_16, 1323)\n",
    "t_n_df = last_n_games(t_df, 20)\n",
    "print t_n_df.shape\n",
    "t_n_df.head()"
   ]
  },
  {
   "cell_type": "code",
   "execution_count": 7,
   "metadata": {
    "collapsed": false
   },
   "outputs": [
    {
     "name": "stdout",
     "output_type": "stream",
     "text": [
      "0.6\n"
     ]
    }
   ],
   "source": [
    "def fetch_win_percent(win_percent_df, team_id):\n",
    "    '''\n",
    "    returns the winning percentage (win_p) for a given team (team_id) by\n",
    "    querying the winning perecentage dataframe (win_percent_df)\n",
    "    '''\n",
    "    win_percent_series = win_percent_df[win_percent_df['Team_Id'] == team_id]['Win_Percent']\n",
    "    win_p = list(win_percent_series)[0]\n",
    "    return win_p\n",
    "\n",
    "win_p = fetch_win_percent(win_percent_df, 1323)\n",
    "print win_p"
   ]
  },
  {
   "cell_type": "code",
   "execution_count": 8,
   "metadata": {
    "collapsed": false
   },
   "outputs": [
    {
     "name": "stdout",
     "output_type": "stream",
     "text": [
      "(1323, 0.6) (1438, 0.7) -11 -0.1\n",
      "(1323, 0.6) (1130, 0.05) 28 0.55\n",
      "(1323, 0.6) (1338, 0.5) -4 0.1\n",
      "(1323, 0.6) (1210, 0.45) 8 0.15\n",
      "(1323, 0.6) (1181, 0.6) 4 0.0\n",
      "(1323, 0.6) (1439, 0.55) 2 0.05\n",
      "(1323, 0.6) (1130, 0.05) 27 0.55\n",
      "(1323, 0.6) (1393, 0.5) -15 0.1\n",
      "(1323, 0.6) (1448, 0.15) 23 0.45\n",
      "(1323, 0.6) (1274, 0.7) -9 -0.1\n",
      "(1323, 0.6) (1314, 0.8) 4 -0.2\n",
      "(1323, 0.6) (1155, 0.5) 6 0.1\n",
      "(1323, 0.6) (1257, 0.65) 5 -0.05\n",
      "(1323, 0.6) (1210, 0.45) -1 0.15\n",
      "(1323, 0.6) (1448, 0.15) 11 0.45\n",
      "(1323, 0.6) (1199, 0.45) -21 0.15\n",
      "(1323, 0.6) (1274, 0.7) -18 -0.1\n",
      "(1323, 0.6) (1301, 0.3) 14 0.3\n",
      "(1323, 0.6) (1181, 0.6) 5 0.0\n",
      "(1323, 0.6) (1314, 0.8) -31 -0.2\n"
     ]
    }
   ],
   "source": [
    "team_id = 1323\n",
    "\n",
    "A = []\n",
    "B = []\n",
    "\n",
    "for index, row in t_n_df.iterrows():\n",
    "    #print row\n",
    "    wteam = row['Wteam']\n",
    "    lteam = row['Lteam']\n",
    "    if wteam == team_id:\n",
    "        score_margin = row['Wscore'] - row['Lscore']\n",
    "        other_team = lteam\n",
    "    else:\n",
    "        score_margin = row['Lscore'] - row['Wscore']\n",
    "        other_team = wteam\n",
    "    # fetchs winning percentages\n",
    "    win_p1 = round(fetch_win_percent(win_percent_df, team_id),2)\n",
    "    win_p2 = round(fetch_win_percent(win_percent_df, other_team),2)\n",
    "    print (team_id,win_p1), (other_team,win_p2), score_margin, win_p1-win_p2\n",
    "    A.append(score_margin)\n",
    "    B.append(win_p1-win_p2)"
   ]
  },
  {
   "cell_type": "code",
   "execution_count": 9,
   "metadata": {
    "collapsed": false
   },
   "outputs": [
    {
     "data": {
      "text/plain": [
       "<matplotlib.collections.PathCollection at 0x111f06a50>"
      ]
     },
     "execution_count": 9,
     "metadata": {},
     "output_type": "execute_result"
    },
    {
     "data": {
      "image/png": "[encoded data removed]",
      "text/plain": [
       "<matplotlib.figure.Figure at 0x115141210>"
      ]
     },
     "metadata": {},
     "output_type": "display_data"
    }
   ],
   "source": [
    "plt.scatter(A,B)"
   ]
  },
  {
   "cell_type": "code",
   "execution_count": 10,
   "metadata": {
    "collapsed": false
   },
   "outputs": [
    {
     "name": "stdout",
     "output_type": "stream",
     "text": [
      "8532958530\n"
     ]
    }
   ],
   "source": [
    "print 480189*17770"
   ]
  },
  {
   "cell_type": "code",
   "execution_count": null,
   "metadata": {
    "collapsed": true
   },
   "outputs": [],
   "source": []
  }
 ],
 "metadata": {
  "kernelspec": {
   "display_name": "Python 2",
   "language": "python",
   "name": "python2"
  },
  "language_info": {
   "codemirror_mode": {
    "name": "ipython",
    "version": 2
   },
   "file_extension": ".py",
   "mimetype": "text/x-python",
   "name": "python",
   "nbconvert_exporter": "python",
   "pygments_lexer": "ipython2",
   "version": "2.7.12"
  }
 },
 "nbformat": 4,
 "nbformat_minor": 0
}
